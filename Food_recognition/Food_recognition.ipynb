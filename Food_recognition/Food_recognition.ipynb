{
 "cells": [
  {
   "cell_type": "markdown",
   "metadata": {},
   "source": [
    "# Food recognition"
   ]
  },
  {
   "cell_type": "code",
   "execution_count": 4,
   "metadata": {},
   "outputs": [],
   "source": [
    "import tensorflow as tf\n",
    "import os\n",
    "from keras.preprocessing.image import ImageDataGenerator\n",
    "from keras import layers\n",
    "from keras import models\n",
    "from keras import optimizers\n",
    "from keras.preprocessing import image\n",
    "import shutil\n",
    "import matplotlib.pyplot as plt\n",
    "from keras.applications import VGG16\n",
    "import keras\n",
    "import numpy as np"
   ]
  },
  {
   "cell_type": "code",
   "execution_count": 5,
   "metadata": {},
   "outputs": [],
   "source": [
    "# Creation of the folders with the data for the training and the test \n",
    "base_dir = \"./Data/training_test\"\n",
    "if not os.path.exists(base_dir):\n",
    "            os.mkdir(base_dir)      \n",
    "train_dir = os.path.join(base_dir,'train')\n",
    "if not os.path.exists(train_dir):\n",
    "    os.mkdir(train_dir)\n",
    "validation_dir = os.path.join(base_dir,'validation')\n",
    "if not os.path.exists(validation_dir):\n",
    "    os.mkdir(validation_dir)\n",
    "test_dir = os.path.join(base_dir,'test')\n",
    "if not os.path.exists(test_dir):\n",
    "    os.mkdir(test_dir)"
   ]
  },
  {
   "cell_type": "code",
   "execution_count": 6,
   "metadata": {},
   "outputs": [],
   "source": [
    "items = ('sashimi', 'spaghetti_bolognese')\n",
    "directories = ('train', 'validation', 'test')\n",
    "for i in items:\n",
    "    for j in directories:\n",
    "        path = os.path.join(base_dir,j)\n",
    "        path = os.path.join(path,i)\n",
    "        if not os.path.exists(path):\n",
    "            os.mkdir(path)        "
   ]
  },
  {
   "cell_type": "code",
   "execution_count": 7,
   "metadata": {},
   "outputs": [],
   "source": [
    "# create the training datase\n",
    "dir_orig_data = \"./Data/original_dataset\"\n",
    "for i in items:\n",
    "    path_to_copy = os.path.join(dir_orig_data,i)\n",
    "    files = os.listdir(path_to_copy)\n",
    "    try:\n",
    "        files.remove('.ipynb_checkpoints')\n",
    "    except:\n",
    "        pass\n",
    "    files = files[0:700]\n",
    "    path_to_past = os.path.join(base_dir, 'train')\n",
    "    path_to_past = os.path.join(path_to_past, i)\n",
    "    for j in files:\n",
    "        path_file= os.path.join(path_to_past,j)\n",
    "        file = os.path.join(path_to_copy,j)\n",
    "        shutil.copyfile(file, path_file)"
   ]
  },
  {
   "cell_type": "code",
   "execution_count": 8,
   "metadata": {},
   "outputs": [],
   "source": [
    "# create the test dataset\n",
    "dir_orig_data = \"./Data/original_dataset\"\n",
    "for i in items:\n",
    "    path_to_copy = os.path.join(dir_orig_data,i)\n",
    "    files = os.listdir(path_to_copy)\n",
    "    try:\n",
    "        files.remove('.ipynb_checkpoints')\n",
    "    except:\n",
    "        pass\n",
    "    files = files[700:850]\n",
    "    path_to_past = os.path.join(base_dir, 'test')\n",
    "    path_to_past = os.path.join(path_to_past, i)\n",
    "    for j in files:\n",
    "        path_file= os.path.join(path_to_past,j)\n",
    "        file = os.path.join(path_to_copy,j)\n",
    "        shutil.copyfile(file, path_file)"
   ]
  },
  {
   "cell_type": "code",
   "execution_count": 9,
   "metadata": {},
   "outputs": [],
   "source": [
    "# create the validation dataset\n",
    "dir_orig_data = \"./Data/original_dataset\"\n",
    "for i in items:\n",
    "    path_to_copy = os.path.join(dir_orig_data,i)\n",
    "    files = os.listdir(path_to_copy)\n",
    "    try:\n",
    "        files.remove('.ipynb_checkpoints')\n",
    "    except:\n",
    "        pass\n",
    "    files = files[850:1000]\n",
    "    path_to_past = os.path.join(base_dir, 'validation')\n",
    "    path_to_past = os.path.join(path_to_past, i)\n",
    "    for j in files:\n",
    "        path_file= os.path.join(path_to_past,j)\n",
    "        file = os.path.join(path_to_copy,j)\n",
    "        shutil.copyfile(file, path_file)"
   ]
  },
  {
   "cell_type": "markdown",
   "metadata": {},
   "source": [
    "# First Model "
   ]
  },
  {
   "cell_type": "code",
   "execution_count": 10,
   "metadata": {},
   "outputs": [],
   "source": [
    "train_datagen = ImageDataGenerator(rescale = 1./255)\n",
    "test_datagen = ImageDataGenerator(rescale = 1./255)"
   ]
  },
  {
   "cell_type": "code",
   "execution_count": 11,
   "metadata": {},
   "outputs": [
    {
     "name": "stdout",
     "output_type": "stream",
     "text": [
      "Found 1400 images belonging to 2 classes.\n"
     ]
    }
   ],
   "source": [
    "train_generator = train_datagen.flow_from_directory(\n",
    "train_dir,\n",
    "    target_size = (150,150),\n",
    "    batch_size = 20,\n",
    "    class_mode = 'binary'    \n",
    ")"
   ]
  },
  {
   "cell_type": "code",
   "execution_count": 12,
   "metadata": {},
   "outputs": [
    {
     "name": "stdout",
     "output_type": "stream",
     "text": [
      "Found 300 images belonging to 2 classes.\n"
     ]
    }
   ],
   "source": [
    "test_generator = test_datagen.flow_from_directory(\n",
    "    test_dir,\n",
    "    target_size = (150,150),\n",
    "    batch_size = 20,\n",
    "    class_mode = 'binary'    \n",
    ")"
   ]
  },
  {
   "cell_type": "code",
   "execution_count": null,
   "metadata": {},
   "outputs": [],
   "source": [
    "# Convolutional layers of the model\n",
    "model = models.Sequential()\n",
    "model.add(layers.Conv2D(32,(3,3), activation = 'relu', input_shape = (150,150,3)))\n",
    "model.add(layers.MaxPooling2D(2,2))\n",
    "model.add(layers.Conv2D(64,(3,3), activation = 'relu'))\n",
    "model.add(layers.MaxPooling2D(2,2))\n",
    "model.add(layers.Conv2D(128,(3,3), activation = 'relu'))\n",
    "model.add(layers.MaxPooling2D(2,2))\n",
    "model.add(layers.Conv2D(128,(3,3), activation = 'relu'))\n",
    "model.add(layers.MaxPooling2D(2,2))\n",
    "model.add(layers.Flatten())"
   ]
  },
  {
   "cell_type": "code",
   "execution_count": null,
   "metadata": {},
   "outputs": [],
   "source": [
    "# Ann\n",
    "model.add(layers.Dense(512,activation = 'relu'))\n",
    "model.add(layers.Dense(1,activation = 'sigmoid'))"
   ]
  },
  {
   "cell_type": "code",
   "execution_count": null,
   "metadata": {},
   "outputs": [],
   "source": [
    "# Deciding the optimizer\n",
    "model.compile(loss = 'binary_crossentropy', optimizer = optimizers.RMSprop(lr = 1e-4), metrics = 'acc')"
   ]
  },
  {
   "cell_type": "code",
   "execution_count": null,
   "metadata": {},
   "outputs": [],
   "source": [
    "# fit the data with the model\n",
    "history = model.fit(\n",
    "train_generator,\n",
    "    steps_per_epoch = 70,\n",
    "    epochs = 30,\n",
    "    validation_data = test_generator,\n",
    "    validation_steps = 15\n",
    "    \n",
    ")"
   ]
  },
  {
   "cell_type": "code",
   "execution_count": null,
   "metadata": {},
   "outputs": [],
   "source": [
    "# Plot the results \n",
    "acc = history.history['acc']\n",
    "val_acc = history.history['val_acc']\n",
    "loss = history.history['loss']\n",
    "val_loss = history.history['val_loss']\n",
    "\n",
    "epochs = range(1, len(acc) + 1)\n",
    "\n",
    "plt.plot(epochs, acc, 'bo', label='Training acc')\n",
    "plt.plot(epochs, val_acc, 'b', label='Validation acc')\n",
    "plt.title('Training and validation accuracy')\n",
    "plt.legend()\n",
    "\n",
    "plt.figure()\n",
    "\n",
    "plt.plot(epochs, loss, 'bo', label='Training loss')\n",
    "plt.plot(epochs, val_loss, 'b', label='Validation loss')\n",
    "plt.title('Training and validation loss')\n",
    "plt.legend()\n",
    "\n",
    "plt.show()"
   ]
  },
  {
   "cell_type": "markdown",
   "metadata": {},
   "source": [
    "# Second Model"
   ]
  },
  {
   "cell_type": "code",
   "execution_count": null,
   "metadata": {},
   "outputs": [],
   "source": [
    "datagen = ImageDataGenerator(\n",
    "    rotation_range = 40,\n",
    "    width_shift_range = 0.2,\n",
    "    height_shift_range = 0.2,\n",
    "    shear_range = 0.2,\n",
    "    zoom_range = 0.2,\n",
    "    horizontal_flip = True,\n",
    "    fill_mode = 'nearest'\n",
    ")"
   ]
  },
  {
   "cell_type": "code",
   "execution_count": null,
   "metadata": {},
   "outputs": [],
   "source": [
    "path_image = \"Data\\original_dataset\\sashimi\"\n",
    "image_name =  os.listdir(path_image)[4]\n",
    "path_image = os.path.join(path_image,image_name)\n",
    "img = image.load_img(path_image, target_size = (150,150))\n",
    "img"
   ]
  },
  {
   "cell_type": "code",
   "execution_count": null,
   "metadata": {},
   "outputs": [],
   "source": [
    "x = image.img_to_array(img)\n",
    "x = x.reshape((1,)+ x.shape)"
   ]
  },
  {
   "cell_type": "code",
   "execution_count": null,
   "metadata": {},
   "outputs": [],
   "source": [
    "i = 0\n",
    "for batch in datagen.flow(x, batch_size = 1):\n",
    "    plt.figure(i)\n",
    "    imgplot = plt.imshow(image.array_to_img(batch[0]))\n",
    "    i += 1\n",
    "    if i % 8 == 0:\n",
    "        break\n",
    "plt.show()"
   ]
  },
  {
   "cell_type": "code",
   "execution_count": null,
   "metadata": {},
   "outputs": [],
   "source": [
    "train_datagen2 = ImageDataGenerator(\n",
    "    rescale = 1./255,\n",
    "    rotation_range = 40,\n",
    "    width_shift_range = 0.2,\n",
    "    height_shift_range = 0.2,\n",
    "    shear_range = 0.2,\n",
    "    zoom_range = 0.2,\n",
    "    horizontal_flip = True,\n",
    "    fill_mode = 'nearest'\n",
    ")"
   ]
  },
  {
   "cell_type": "code",
   "execution_count": null,
   "metadata": {},
   "outputs": [],
   "source": [
    "test_datagen2 = ImageDataGenerator( rescale = 1./255)"
   ]
  },
  {
   "cell_type": "code",
   "execution_count": null,
   "metadata": {},
   "outputs": [],
   "source": [
    "train_generator2 = train_datagen2.flow_from_directory(\n",
    "    train_dir,\n",
    "    target_size = (150,150),\n",
    "    batch_size = 20,\n",
    "    class_mode = 'binary'    \n",
    ")"
   ]
  },
  {
   "cell_type": "code",
   "execution_count": null,
   "metadata": {},
   "outputs": [],
   "source": [
    "validation_generator2 = test_datagen2.flow_from_directory(\n",
    "    validation_dir,\n",
    "    target_size = (150,150),\n",
    "    batch_size = 20,\n",
    "    class_mode = 'binary'    \n",
    ")"
   ]
  },
  {
   "cell_type": "code",
   "execution_count": null,
   "metadata": {},
   "outputs": [],
   "source": [
    "# Convolutional layers\n",
    "model2 = models.Sequential()\n",
    "model2.add(layers.Conv2D(32,(3,3), activation = 'relu', input_shape = (150,150,3)))\n",
    "model2.add(layers.MaxPooling2D(2,2))\n",
    "model2.add(layers.Conv2D(64,(3,3), activation = 'relu'))\n",
    "model2.add(layers.MaxPooling2D(2,2))\n",
    "model2.add(layers.Conv2D(128,(3,3), activation = 'relu'))\n",
    "model2.add(layers.MaxPooling2D(2,2))\n",
    "model2.add(layers.Conv2D(128,(3,3), activation = 'relu'))\n",
    "model2.add(layers.MaxPooling2D(2,2))\n",
    "model2.add(layers.Flatten())\n",
    "model2.add(layers.Dropout(0.2))"
   ]
  },
  {
   "cell_type": "code",
   "execution_count": null,
   "metadata": {},
   "outputs": [],
   "source": [
    "# Ann\n",
    "model2.add(layers.Dense(512,activation = 'relu'))\n",
    "model2.add(layers.Dense(1,activation = 'sigmoid'))"
   ]
  },
  {
   "cell_type": "code",
   "execution_count": null,
   "metadata": {},
   "outputs": [],
   "source": [
    "# Deciding the optimizer\n",
    "model2.compile(loss = 'binary_crossentropy', optimizer = optimizers.RMSprop(lr = 1e-4), metrics = 'acc')"
   ]
  },
  {
   "cell_type": "code",
   "execution_count": null,
   "metadata": {},
   "outputs": [],
   "source": [
    "history2 = model2.fit_generator(\n",
    "    train_generator2,\n",
    "    steps_per_epoch = 70,\n",
    "    epochs = 50,\n",
    "    validation_data = validation_generator2,\n",
    "    validation_steps = 15\n",
    ")"
   ]
  },
  {
   "cell_type": "code",
   "execution_count": null,
   "metadata": {},
   "outputs": [],
   "source": [
    "model2.save('food_recognition_model2')"
   ]
  },
  {
   "cell_type": "code",
   "execution_count": null,
   "metadata": {},
   "outputs": [],
   "source": [
    "history2 = history"
   ]
  },
  {
   "cell_type": "code",
   "execution_count": 13,
   "metadata": {},
   "outputs": [
    {
     "ename": "NameError",
     "evalue": "name 'history2' is not defined",
     "output_type": "error",
     "traceback": [
      "\u001b[1;31m---------------------------------------------------------------------------\u001b[0m",
      "\u001b[1;31mNameError\u001b[0m                                 Traceback (most recent call last)",
      "\u001b[1;32m<ipython-input-13-44095496e04a>\u001b[0m in \u001b[0;36m<module>\u001b[1;34m\u001b[0m\n\u001b[0;32m      2\u001b[0m \u001b[1;33m\u001b[0m\u001b[0m\n\u001b[0;32m      3\u001b[0m \u001b[1;31m# Get the values from the models\u001b[0m\u001b[1;33m\u001b[0m\u001b[1;33m\u001b[0m\u001b[1;33m\u001b[0m\u001b[0m\n\u001b[1;32m----> 4\u001b[1;33m \u001b[0macc\u001b[0m \u001b[1;33m=\u001b[0m \u001b[0mhistory2\u001b[0m\u001b[1;33m.\u001b[0m\u001b[0mhistory\u001b[0m\u001b[1;33m[\u001b[0m\u001b[1;34m'acc'\u001b[0m\u001b[1;33m]\u001b[0m\u001b[1;33m\u001b[0m\u001b[1;33m\u001b[0m\u001b[0m\n\u001b[0m\u001b[0;32m      5\u001b[0m \u001b[0mval_acc\u001b[0m \u001b[1;33m=\u001b[0m \u001b[0mhistory2\u001b[0m\u001b[1;33m.\u001b[0m\u001b[0mhistory\u001b[0m\u001b[1;33m[\u001b[0m\u001b[1;34m'val_acc'\u001b[0m\u001b[1;33m]\u001b[0m\u001b[1;33m\u001b[0m\u001b[1;33m\u001b[0m\u001b[0m\n\u001b[0;32m      6\u001b[0m \u001b[0mloss\u001b[0m \u001b[1;33m=\u001b[0m \u001b[0mhistory2\u001b[0m\u001b[1;33m.\u001b[0m\u001b[0mhistory\u001b[0m\u001b[1;33m[\u001b[0m\u001b[1;34m'loss'\u001b[0m\u001b[1;33m]\u001b[0m\u001b[1;33m\u001b[0m\u001b[1;33m\u001b[0m\u001b[0m\n",
      "\u001b[1;31mNameError\u001b[0m: name 'history2' is not defined"
     ]
    }
   ],
   "source": [
    "# Plot the loss and accuray fpr the training and validation\n",
    "\n",
    "# Get the values from the models\n",
    "acc = history2.history['acc']\n",
    "val_acc = history2.history['val_acc']\n",
    "loss = history2.history['loss']\n",
    "val_loss = history2.history['val_loss']\n",
    "epochs = range(1, len(acc) + 1)\n",
    "\n",
    "# plot the accuracy\n",
    "plt.plot(epochs, acc, 'bo', label='Training acc')\n",
    "plt.plot(epochs, val_acc, 'b', label='Validation acc')\n",
    "plt.title('Training and validation accuracy')\n",
    "plt.legend()\n",
    "plt.figure()\n",
    "\n",
    "# Plot the loss\n",
    "plt.plot(epochs, loss, 'bo', label='Training loss')\n",
    "plt.plot(epochs, val_loss, 'b', label='Validation loss')\n",
    "plt.title('Training and validation loss')\n",
    "plt.legend()\n",
    "plt.show()"
   ]
  },
  {
   "cell_type": "code",
   "execution_count": 14,
   "metadata": {},
   "outputs": [],
   "source": [
    "conv_base = VGG16(weights = 'imagenet',\n",
    "                 include_top = False,\n",
    "                 input_shape = (150,150,3)\n",
    "                 )"
   ]
  },
  {
   "cell_type": "code",
   "execution_count": 15,
   "metadata": {},
   "outputs": [
    {
     "name": "stdout",
     "output_type": "stream",
     "text": [
      "Found 1400 images belonging to 2 classes.\n",
      "Found 300 images belonging to 2 classes.\n",
      "Found 300 images belonging to 2 classes.\n"
     ]
    }
   ],
   "source": [
    "datagen = ImageDataGenerator(rescale = 1/255)\n",
    "batch_size = 20\n",
    "\n",
    "def extract_features(directory, sample_count):\n",
    "   features = np.zeros(shape=(sample_count, 4, 4, 512))\n",
    "   labels = np.zeros(shape=(sample_count))\n",
    "   generator = datagen.flow_from_directory(\n",
    "                       directory,\n",
    "                       target_size=(150, 150),\n",
    "                       batch_size=batch_size,\n",
    "                       class_mode='binary')\n",
    "   i = 0\n",
    "   for inputs_batch, labels_batch in generator:\n",
    "       features_batch = conv_base.predict(inputs_batch)\n",
    "       features[i * batch_size : (i + 1) * batch_size] = features_batch\n",
    "       labels[i * batch_size : (i + 1) * batch_size] = labels_batch\n",
    "       i = i + 1\n",
    "       if i * batch_size >= sample_count:\n",
    "           break\n",
    "   return features, labels\n",
    "\n",
    "train_features, train_labels = extract_features(train_dir, 1400)\n",
    "validation_features, validation_labels = extract_features(validation_dir, 300)\n",
    "test_features, test_labels = extract_features(test_dir, 300)"
   ]
  },
  {
   "cell_type": "code",
   "execution_count": 16,
   "metadata": {},
   "outputs": [],
   "source": [
    "train_features = np.reshape(train_features, (1400, 4*4*512))\n",
    "validation_features = np.reshape(validation_features, (300, 4*4*512))\n",
    "test_features = np.reshape(test_features, (300, 4*4*512))"
   ]
  },
  {
   "cell_type": "code",
   "execution_count": 17,
   "metadata": {},
   "outputs": [],
   "source": [
    "model3 = models.Sequential()\n",
    "model3.add(layers.Dense(256, activation = 'relu', input_dim = 4*4*512))\n",
    "model3.add(layers.Dropout(0.2))\n",
    "model3.add(layers.Dense(1, activation = 'sigmoid'))"
   ]
  },
  {
   "cell_type": "code",
   "execution_count": 18,
   "metadata": {},
   "outputs": [],
   "source": [
    "model3.compile(loss = 'binary_crossentropy', optimizer = optimizers.RMSprop(lr = 2e-5), metrics = 'acc')"
   ]
  },
  {
   "cell_type": "code",
   "execution_count": 26,
   "metadata": {},
   "outputs": [],
   "source": [
    "model3.save('Models/model3.h5')\n",
    "#model3 = keras.models.load_model('Models/model3.h5')"
   ]
  },
  {
   "cell_type": "code",
   "execution_count": 19,
   "metadata": {},
   "outputs": [
    {
     "name": "stdout",
     "output_type": "stream",
     "text": [
      "Epoch 1/30\n",
      "70/70 [==============================] - 1s 14ms/step - loss: 0.5035 - acc: 0.7869 - val_loss: 0.2591 - val_acc: 0.9300\n",
      "Epoch 2/30\n",
      "70/70 [==============================] - 1s 13ms/step - loss: 0.2217 - acc: 0.9529 - val_loss: 0.2044 - val_acc: 0.9167\n",
      "Epoch 3/30\n",
      "70/70 [==============================] - 1s 13ms/step - loss: 0.1585 - acc: 0.9504 - val_loss: 0.1545 - val_acc: 0.9433\n",
      "Epoch 4/30\n",
      "70/70 [==============================] - 1s 13ms/step - loss: 0.1351 - acc: 0.9552 - val_loss: 0.1362 - val_acc: 0.9500\n",
      "Epoch 5/30\n",
      "70/70 [==============================] - 1s 13ms/step - loss: 0.1179 - acc: 0.9640 - val_loss: 0.1295 - val_acc: 0.9600\n",
      "Epoch 6/30\n",
      "70/70 [==============================] - 1s 13ms/step - loss: 0.0883 - acc: 0.9738 - val_loss: 0.1227 - val_acc: 0.9600\n",
      "Epoch 7/30\n",
      "70/70 [==============================] - 1s 13ms/step - loss: 0.0676 - acc: 0.9808 - val_loss: 0.1206 - val_acc: 0.9567\n",
      "Epoch 8/30\n",
      "70/70 [==============================] - 1s 13ms/step - loss: 0.0850 - acc: 0.9773 - val_loss: 0.1110 - val_acc: 0.9600\n",
      "Epoch 9/30\n",
      "70/70 [==============================] - 1s 13ms/step - loss: 0.0652 - acc: 0.9784 - val_loss: 0.1100 - val_acc: 0.9600\n",
      "Epoch 10/30\n",
      "70/70 [==============================] - 1s 13ms/step - loss: 0.0607 - acc: 0.9841 - val_loss: 0.1052 - val_acc: 0.9600\n",
      "Epoch 11/30\n",
      "70/70 [==============================] - 1s 13ms/step - loss: 0.0525 - acc: 0.9839 - val_loss: 0.1047 - val_acc: 0.9667\n",
      "Epoch 12/30\n",
      "70/70 [==============================] - 1s 13ms/step - loss: 0.0455 - acc: 0.9897 - val_loss: 0.1020 - val_acc: 0.9700\n",
      "Epoch 13/30\n",
      "70/70 [==============================] - 1s 13ms/step - loss: 0.0405 - acc: 0.9927 - val_loss: 0.1012 - val_acc: 0.9633\n",
      "Epoch 14/30\n",
      "70/70 [==============================] - 1s 13ms/step - loss: 0.0332 - acc: 0.9920 - val_loss: 0.1027 - val_acc: 0.9600\n",
      "Epoch 15/30\n",
      "70/70 [==============================] - 1s 13ms/step - loss: 0.0353 - acc: 0.9929 - val_loss: 0.0991 - val_acc: 0.9633\n",
      "Epoch 16/30\n",
      "70/70 [==============================] - 1s 13ms/step - loss: 0.0307 - acc: 0.9955 - val_loss: 0.0969 - val_acc: 0.9667\n",
      "Epoch 17/30\n",
      "70/70 [==============================] - 1s 13ms/step - loss: 0.0275 - acc: 0.9953 - val_loss: 0.0988 - val_acc: 0.9667\n",
      "Epoch 18/30\n",
      "70/70 [==============================] - 1s 14ms/step - loss: 0.0262 - acc: 0.9957 - val_loss: 0.0975 - val_acc: 0.9667\n",
      "Epoch 19/30\n",
      "70/70 [==============================] - 1s 13ms/step - loss: 0.0174 - acc: 0.9974 - val_loss: 0.1040 - val_acc: 0.9667\n",
      "Epoch 20/30\n",
      "70/70 [==============================] - 1s 13ms/step - loss: 0.0168 - acc: 0.9974 - val_loss: 0.1056 - val_acc: 0.9633\n",
      "Epoch 21/30\n",
      "70/70 [==============================] - 1s 13ms/step - loss: 0.0174 - acc: 0.9971 - val_loss: 0.0994 - val_acc: 0.9667\n",
      "Epoch 22/30\n",
      "70/70 [==============================] - 1s 13ms/step - loss: 0.0137 - acc: 0.9997 - val_loss: 0.0996 - val_acc: 0.9700\n",
      "Epoch 23/30\n",
      "70/70 [==============================] - 1s 13ms/step - loss: 0.0185 - acc: 0.9995 - val_loss: 0.1053 - val_acc: 0.9667\n",
      "Epoch 24/30\n",
      "70/70 [==============================] - 1s 13ms/step - loss: 0.0117 - acc: 0.9995 - val_loss: 0.1009 - val_acc: 0.9667\n",
      "Epoch 25/30\n",
      "70/70 [==============================] - 1s 13ms/step - loss: 0.0106 - acc: 0.9995 - val_loss: 0.0955 - val_acc: 0.9633\n",
      "Epoch 26/30\n",
      "70/70 [==============================] - 1s 13ms/step - loss: 0.0104 - acc: 0.9999 - val_loss: 0.0992 - val_acc: 0.9633\n",
      "Epoch 27/30\n",
      "70/70 [==============================] - 1s 13ms/step - loss: 0.0084 - acc: 0.9983 - val_loss: 0.0972 - val_acc: 0.9633\n",
      "Epoch 28/30\n",
      "70/70 [==============================] - 1s 13ms/step - loss: 0.0060 - acc: 1.0000 - val_loss: 0.0997 - val_acc: 0.9633\n",
      "Epoch 29/30\n",
      "70/70 [==============================] - 1s 13ms/step - loss: 0.0076 - acc: 0.9989 - val_loss: 0.0979 - val_acc: 0.9567\n",
      "Epoch 30/30\n",
      "70/70 [==============================] - 1s 13ms/step - loss: 0.0058 - acc: 0.9996 - val_loss: 0.1008 - val_acc: 0.9633\n"
     ]
    }
   ],
   "source": [
    "history3 = model3.fit(train_features, train_labels,\n",
    "                    epochs = 30,\n",
    "                    batch_size = 20,\n",
    "                    validation_data = (validation_features, validation_labels)\n",
    "                    )"
   ]
  },
  {
   "cell_type": "code",
   "execution_count": 38,
   "metadata": {},
   "outputs": [],
   "source": [
    "def plot_acc_loss(history):\n",
    "    acc = history.history['acc']\n",
    "    val_acc = history.history['val_acc']\n",
    "    loss = history.history['loss']\n",
    "    val_loss = history.history['val_loss']\n",
    "    epochs = range(1, len(acc) + 1)\n",
    "    plt.plot(epochs, acc, 'bo', label='Training acc')\n",
    "    plt.plot(epochs, val_acc, 'b', label='Validation acc')\n",
    "    plt.title('Training and validation accuracy')\n",
    "    plt.legend()\n",
    "    plt.figure()\n",
    "    plt.plot(epochs, loss, 'bo', label='Training loss')\n",
    "    plt.plot(epochs, val_loss, 'b', label='Validation loss')\n",
    "    plt.title('Training and validation loss')\n",
    "    plt.legend()\n",
    "    plt.show()\n",
    "\n",
    "    "
   ]
  },
  {
   "cell_type": "code",
   "execution_count": 20,
   "metadata": {},
   "outputs": [
    {
     "data": {
      "image/png": "[encoded data removed]",
      "text/plain": [
       "<Figure size 432x288 with 1 Axes>"
      ]
     },
     "metadata": {
      "needs_background": "light"
     },
     "output_type": "display_data"
    },
    {
     "data": {
      "image/png": "[encoded data removed]",
      "text/plain": [
       "<Figure size 432x288 with 1 Axes>"
      ]
     },
     "metadata": {
      "needs_background": "light"
     },
     "output_type": "display_data"
    }
   ],
   "source": [
    "# Plot the results \n",
    "history = history3\n",
    "acc = history.history['acc']\n",
    "val_acc = history.history['val_acc']\n",
    "loss = history.history['loss']\n",
    "val_loss = history.history['val_loss']\n",
    "\n",
    "epochs = range(1, len(acc) + 1)\n",
    "\n",
    "plt.plot(epochs, acc, 'bo', label='Training acc')\n",
    "plt.plot(epochs, val_acc, 'b', label='Validation acc')\n",
    "plt.title('Training and validation accuracy')\n",
    "plt.legend()\n",
    "\n",
    "plt.figure()\n",
    "\n",
    "plt.plot(epochs, loss, 'bo', label='Training loss')\n",
    "plt.plot(epochs, val_loss, 'b', label='Validation loss')\n",
    "plt.title('Training and validation loss')\n",
    "plt.legend()\n",
    "\n",
    "plt.show()"
   ]
  },
  {
   "cell_type": "markdown",
   "metadata": {},
   "source": [
    "# Fourth model"
   ]
  },
  {
   "cell_type": "code",
   "execution_count": 34,
   "metadata": {},
   "outputs": [],
   "source": [
    "model4 = models.Sequential()\n",
    "model4.add(conv_base)\n",
    "model4.add(layers.Flatten())\n",
    "model4.add(layers.Dense(256, activation = 'relu'))\n",
    "model4.add(layers.Dense(1, activation = 'sigmoid'))\n",
    "conv_base.trainable = False\n"
   ]
  },
  {
   "cell_type": "code",
   "execution_count": 29,
   "metadata": {},
   "outputs": [],
   "source": [
    "train_datagen4 = ImageDataGenerator(\n",
    "    rescale = 1./255,\n",
    "    rotation_range = 40,\n",
    "    width_shift_range = 0.2,\n",
    "    height_shift_range = 0.2,\n",
    "    shear_range = 0.2,\n",
    "    zoom_range = 0.2,\n",
    "    horizontal_flip = True,\n",
    "    fill_mode = 'nearest'\n",
    ")"
   ]
  },
  {
   "cell_type": "code",
   "execution_count": 30,
   "metadata": {},
   "outputs": [],
   "source": [
    "test_datagen4 = ImageDataGenerator( rescale = 1./255)"
   ]
  },
  {
   "cell_type": "code",
   "execution_count": 32,
   "metadata": {},
   "outputs": [
    {
     "name": "stdout",
     "output_type": "stream",
     "text": [
      "Found 1400 images belonging to 2 classes.\n"
     ]
    }
   ],
   "source": [
    "train_generator4 = train_datagen4.flow_from_directory(\n",
    "    train_dir,\n",
    "    target_size = (150,150),\n",
    "    batch_size = 20,\n",
    "    class_mode = 'binary'    \n",
    ")"
   ]
  },
  {
   "cell_type": "code",
   "execution_count": 33,
   "metadata": {},
   "outputs": [
    {
     "name": "stdout",
     "output_type": "stream",
     "text": [
      "Found 300 images belonging to 2 classes.\n"
     ]
    }
   ],
   "source": [
    "validation_generator4 = test_datagen4.flow_from_directory(\n",
    "    validation_dir,\n",
    "    target_size = (150,150),\n",
    "    batch_size = 20,\n",
    "    class_mode = 'binary'    \n",
    ")"
   ]
  },
  {
   "cell_type": "code",
   "execution_count": 37,
   "metadata": {},
   "outputs": [
    {
     "name": "stderr",
     "output_type": "stream",
     "text": [
      "C:\\Users\\elena.bonan\\AppData\\Local\\Continuum\\anaconda3\\lib\\site-packages\\tensorflow\\python\\keras\\engine\\training.py:1844: UserWarning: `Model.fit_generator` is deprecated and will be removed in a future version. Please use `Model.fit`, which supports generators.\n",
      "  warnings.warn('`Model.fit_generator` is deprecated and '\n"
     ]
    },
    {
     "name": "stdout",
     "output_type": "stream",
     "text": [
      "Epoch 1/3\n",
      "70/70 [==============================] - 53s 758ms/step - loss: 0.5508 - acc: 0.7547 - val_loss: 0.2672 - val_acc: 0.9300\n",
      "Epoch 2/3\n",
      "70/70 [==============================] - 60s 859ms/step - loss: 0.2721 - acc: 0.9213 - val_loss: 0.1847 - val_acc: 0.9433\n",
      "Epoch 3/3\n",
      "70/70 [==============================] - 63s 903ms/step - loss: 0.2068 - acc: 0.9336 - val_loss: 0.1553 - val_acc: 0.9467\n"
     ]
    }
   ],
   "source": [
    "model4.compile(\n",
    "    loss = 'binary_crossentropy',\n",
    "    optimizer = optimizers.RMSprop(lr = 2e-5),\n",
    "    metrics = ['acc']\n",
    ")\n",
    "history4 = model4.fit_generator(\n",
    "    train_generator4,\n",
    "    steps_per_epoch = 70,\n",
    "    epochs = 3,\n",
    "    validation_data = validation_generator4,\n",
    "    validation_steps = 15\n",
    "    \n",
    ")"
   ]
  },
  {
   "cell_type": "code",
   "execution_count": 39,
   "metadata": {},
   "outputs": [
    {
     "name": "stdout",
     "output_type": "stream",
     "text": [
      "Model: \"sequential_2\"\n",
      "_________________________________________________________________\n",
      "Layer (type)                 Output Shape              Param #   \n",
      "=================================================================\n",
      "vgg16 (Functional)           (None, 4, 4, 512)         14714688  \n",
      "_________________________________________________________________\n",
      "flatten_1 (Flatten)          (None, 8192)              0         \n",
      "_________________________________________________________________\n",
      "dense_4 (Dense)              (None, 256)               2097408   \n",
      "_________________________________________________________________\n",
      "dense_5 (Dense)              (None, 1)                 257       \n",
      "=================================================================\n",
      "Total params: 16,812,353\n",
      "Trainable params: 2,097,665\n",
      "Non-trainable params: 14,714,688\n",
      "_________________________________________________________________\n"
     ]
    }
   ],
   "source": [
    "model4.summary()"
   ]
  },
  {
   "cell_type": "markdown",
   "metadata": {},
   "source": [
    "#  Fifth model"
   ]
  },
  {
   "cell_type": "code",
   "execution_count": 40,
   "metadata": {},
   "outputs": [],
   "source": [
    "conv_base.trainable = True\n",
    "set_trainable = False\n",
    "for layer in conv_base.layers:\n",
    "    if layer.name == 'block5_conv1':\n",
    "        set_trainable = True\n",
    "    if set_trainable == True:\n",
    "        layer.trainable = True\n",
    "    else:\n",
    "        layer.trainable = False\n",
    "    "
   ]
  },
  {
   "cell_type": "code",
   "execution_count": 47,
   "metadata": {},
   "outputs": [
    {
     "name": "stdout",
     "output_type": "stream",
     "text": [
      "Epoch 1/5\n",
      "70/70 [==============================] - 67s 949ms/step - loss: 0.1493 - acc: 0.9542 - val_loss: 0.0932 - val_acc: 0.9633\n",
      "Epoch 2/5\n",
      "70/70 [==============================] - 74s 1s/step - loss: 0.1070 - acc: 0.9630 - val_loss: 0.0792 - val_acc: 0.9633\n",
      "Epoch 3/5\n",
      "70/70 [==============================] - 81s 1s/step - loss: 0.0955 - acc: 0.9648 - val_loss: 0.1668 - val_acc: 0.9400\n",
      "Epoch 4/5\n",
      "70/70 [==============================] - 82s 1s/step - loss: 0.0893 - acc: 0.9730 - val_loss: 0.0517 - val_acc: 0.9800\n",
      "Epoch 5/5\n",
      "70/70 [==============================] - 83s 1s/step - loss: 0.0673 - acc: 0.9777 - val_loss: 0.1171 - val_acc: 0.9567\n"
     ]
    }
   ],
   "source": [
    "model5 = model4\n",
    "model5.compile(loss = 'binary_crossentropy',\n",
    "               optimizer = optimizers.RMSprop(lr = 1e-5), \n",
    "               metrics = ['acc'])\n",
    "history5 = model5.fit_generator(\n",
    "    train_generator4,\n",
    "    steps_per_epoch = 70,\n",
    "    epochs = 5,\n",
    "    validation_data = validation_generator4,\n",
    "    validation_steps = 15)"
   ]
  },
  {
   "cell_type": "code",
   "execution_count": 49,
   "metadata": {},
   "outputs": [
    {
     "data": {
      "image/png": "[encoded data removed]",
      "text/plain": [
       "<Figure size 432x288 with 1 Axes>"
      ]
     },
     "metadata": {
      "needs_background": "light"
     },
     "output_type": "display_data"
    },
    {
     "data": {
      "image/png": "[encoded data removed]",
      "text/plain": [
       "<Figure size 432x288 with 1 Axes>"
      ]
     },
     "metadata": {
      "needs_background": "light"
     },
     "output_type": "display_data"
    }
   ],
   "source": [
    "plot_acc_loss(history5)"
   ]
  },
  {
   "cell_type": "code",
   "execution_count": 61,
   "metadata": {},
   "outputs": [],
   "source": [
    "def smooth_curve(points, factor = 0.8 ):\n",
    "    smoothed_points = []\n",
    "    for point in points:\n",
    "        if smoothed_points:\n",
    "            previous = smoothed_points[-1]\n",
    "            smoothed_points.append(previous*factor+ point*(1-factor))\n",
    "        else:\n",
    "            smoothed_points.append(point)\n",
    "    return smoothed_points"
   ]
  },
  {
   "cell_type": "code",
   "execution_count": 65,
   "metadata": {},
   "outputs": [],
   "source": [
    "def plot_acc_loss_smooth(history):\n",
    "    acc = history.history['acc']\n",
    "    val_acc = history.history['val_acc']\n",
    "    loss = history.history['loss']\n",
    "    val_loss = history.history['val_loss']\n",
    "    epochs = range(1, len(acc) + 1)\n",
    "    plt.plot(epochs, smooth_curve(acc), 'bo', label='Smoothed training acc')\n",
    "    plt.plot(epochs, smooth_curve(val_acc), 'b', label='Smoothed validation acc')\n",
    "    plt.title('Training and validation accuracy')\n",
    "    plt.legend()\n",
    "    plt.figure()\n",
    "    plt.plot(epochs, smooth_curve(loss), 'bo', label='Smoothed training loss')\n",
    "    plt.plot(epochs, smooth_curve(val_loss), 'b', label='Smoothed validation loss')\n",
    "    plt.title('Training and validation loss')\n",
    "    plt.legend()\n",
    "    plt.show()"
   ]
  },
  {
   "cell_type": "code",
   "execution_count": 66,
   "metadata": {},
   "outputs": [
    {
     "data": {
      "image/png": "[encoded data removed]",
      "text/plain": [
       "<Figure size 432x288 with 1 Axes>"
      ]
     },
     "metadata": {
      "needs_background": "light"
     },
     "output_type": "display_data"
    },
    {
     "data": {
      "image/png": "[encoded data removed]",
      "text/plain": [
       "<Figure size 432x288 with 1 Axes>"
      ]
     },
     "metadata": {
      "needs_background": "light"
     },
     "output_type": "display_data"
    }
   ],
   "source": [
    "plot_acc_loss_smooth(history5)"
   ]
  },
  {
   "cell_type": "code",
   "execution_count": 54,
   "metadata": {},
   "outputs": [
    {
     "name": "stdout",
     "output_type": "stream",
     "text": [
      "Found 300 images belonging to 2 classes.\n"
     ]
    },
    {
     "name": "stderr",
     "output_type": "stream",
     "text": [
      "C:\\Users\\elena.bonan\\AppData\\Local\\Continuum\\anaconda3\\lib\\site-packages\\tensorflow\\python\\keras\\engine\\training.py:1877: UserWarning: `Model.evaluate_generator` is deprecated and will be removed in a future version. Please use `Model.evaluate`, which supports generators.\n",
      "  warnings.warn('`Model.evaluate_generator` is deprecated and '\n"
     ]
    },
    {
     "name": "stdout",
     "output_type": "stream",
     "text": [
      "test acc 0.9833333492279053\n"
     ]
    }
   ],
   "source": [
    "test_generator = test_datagen.flow_from_directory(\n",
    "    test_dir ,\n",
    "    target_size = (150,150),\n",
    "    batch_size = 20,\n",
    "    class_mode = 'binary')\n",
    "test_loss, test_acc = model5.evaluate_generator(test_generator, steps = 15)\n",
    "print('test acc', test_acc)"
   ]
  },
  {
   "cell_type": "code",
   "execution_count": null,
   "metadata": {},
   "outputs": [],
   "source": []
  }
 ],
 "metadata": {
  "kernelspec": {
   "display_name": "Python 3",
   "language": "python",
   "name": "python3"
  },
  "language_info": {
   "codemirror_mode": {
    "name": "ipython",
    "version": 3
   },
   "file_extension": ".py",
   "mimetype": "text/x-python",
   "name": "python",
   "nbconvert_exporter": "python",
   "pygments_lexer": "ipython3",
   "version": "3.7.4"
  }
 },
 "nbformat": 4,
 "nbformat_minor": 4
}
